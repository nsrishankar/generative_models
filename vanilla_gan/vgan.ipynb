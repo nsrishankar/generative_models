{
 "cells": [
  {
   "cell_type": "markdown",
   "metadata": {
    "toc": true
   },
   "source": [
    "<h1>Table of Contents<span class=\"tocSkip\"></span></h1>\n",
    "<div class=\"toc\"><ul class=\"toc-item\"><li><span><a href=\"#Initialization\" data-toc-modified-id=\"Initialization-1\"><span class=\"toc-item-num\">1&nbsp;&nbsp;</span>Initialization</a></span><ul class=\"toc-item\"><li><span><a href=\"#MNIST-Dataset-Download-and-normalization\" data-toc-modified-id=\"MNIST-Dataset-Download-and-normalization-1.1\"><span class=\"toc-item-num\">1.1&nbsp;&nbsp;</span>MNIST Dataset Download and normalization</a></span></li></ul></li><li><span><a href=\"#Networks\" data-toc-modified-id=\"Networks-2\"><span class=\"toc-item-num\">2&nbsp;&nbsp;</span>Networks</a></span><ul class=\"toc-item\"><li><span><a href=\"#Discriminator\" data-toc-modified-id=\"Discriminator-2.1\"><span class=\"toc-item-num\">2.1&nbsp;&nbsp;</span>Discriminator</a></span></li><li><span><a href=\"#Generator\" data-toc-modified-id=\"Generator-2.2\"><span class=\"toc-item-num\">2.2&nbsp;&nbsp;</span>Generator</a></span></li></ul></li></ul></div>"
   ]
  },
  {
   "cell_type": "markdown",
   "metadata": {
    "code_folding": []
   },
   "source": [
    "## Initialization"
   ]
  },
  {
   "cell_type": "code",
   "execution_count": 1,
   "metadata": {},
   "outputs": [],
   "source": [
    "import numpy as np\n",
    "import os\n",
    "import sys\n",
    "import torch\n",
    "from torch import nn, optim\n",
    "from torch.autograd.variable import Variable as V\n",
    "from torchvision import datasets, transforms, models, transforms, utils"
   ]
  },
  {
   "cell_type": "code",
   "execution_count": 2,
   "metadata": {},
   "outputs": [
    {
     "name": "stdout",
     "output_type": "stream",
     "text": [
      "3.6.7 |Anaconda custom (64-bit)| (default, Oct 23 2018, 19:16:44) \n",
      "[GCC 7.3.0]\n",
      "<torch.cuda.device object at 0x7f68ae3714e0>\n"
     ]
    },
    {
     "data": {
      "text/plain": [
       "'GeForce GTX 1060'"
      ]
     },
     "execution_count": 2,
     "metadata": {},
     "output_type": "execute_result"
    }
   ],
   "source": [
    "#os.environ[\"CUDA_VISIBLE_DEVICES\"]=\"0\"\n",
    "print(sys.version) # Python version\n",
    "print(torch.cuda.device(0))\n",
    "torch.cuda.get_device_name(0)"
   ]
  },
  {
   "cell_type": "markdown",
   "metadata": {},
   "source": [
    "### MNIST Dataset Download and normalization"
   ]
  },
  {
   "cell_type": "code",
   "execution_count": 3,
   "metadata": {},
   "outputs": [],
   "source": [
    "def get_mnist():\n",
    "    transform_normalize_tensor=transforms.Compose([\n",
    "        transforms.Normalize((0.50,0.50,0.50),(0.50,0.50,0.50)),\n",
    "        transforms.ToTensor()\n",
    "    ])\n",
    "    return datasets.MNIST(root='./mnist_dataset', train=True, transform=transform_normalize_tensor, download=True)"
   ]
  },
  {
   "cell_type": "code",
   "execution_count": 4,
   "metadata": {},
   "outputs": [
    {
     "name": "stdout",
     "output_type": "stream",
     "text": [
      "Downloading http://yann.lecun.com/exdb/mnist/train-images-idx3-ubyte.gz\n",
      "Downloading http://yann.lecun.com/exdb/mnist/train-labels-idx1-ubyte.gz\n",
      "Downloading http://yann.lecun.com/exdb/mnist/t10k-images-idx3-ubyte.gz\n",
      "Downloading http://yann.lecun.com/exdb/mnist/t10k-labels-idx1-ubyte.gz\n",
      "Processing...\n",
      "Done!\n"
     ]
    }
   ],
   "source": [
    "# Dataset Loader\n",
    "mnist_dataset=get_mnist()\n",
    "mnist_dataloader=torch.utils.data.DataLoader(dataset=mnist_dataset, batch_size=128, shuffle=True, drop_last=False)"
   ]
  },
  {
   "cell_type": "markdown",
   "metadata": {},
   "source": [
    "## Networks"
   ]
  },
  {
   "cell_type": "markdown",
   "metadata": {},
   "source": [
    "### Discriminator"
   ]
  },
  {
   "cell_type": "code",
   "execution_count": null,
   "metadata": {},
   "outputs": [],
   "source": [
    "class Discriminator(torch.nn.Module):\n",
    "    def __init__(self):\n",
    "        super(Discriminator,self).__init__()\n",
    "        n_features= 784 # Flattened 28*28 image\n",
    "        n_out=1 # Bool Real or Generated image\n",
    "        \n",
    "        self.hidden0=nn.Sequential(\n",
    "            nn.Linear(n_features,1024),\n",
    "            nn.selu()\n",
    "        )\n",
    "        self.hidden1=nn.Sequential(\n",
    "            nn.Linear(1024,512),\n",
    "            nn.selu(),\n",
    "            nn.Dropout(0.25)\n",
    "        )\n",
    "        self.hidden2=nn.Sequential(\n",
    "            nn.Linear(512,128),\n",
    "            nn.selu(),\n",
    "            nn.Dropout(0.25)\n",
    "        )\n",
    "        self.out=nn.Sequential(\n",
    "            nn.Linear(128,n_out),\n",
    "            nn.Sigmoid()\n",
    "        )\n",
    "        \n",
    "        self.optimizer=optim.Adam(self.parameters(), lr=0.00002)\n",
    "    \n",
    "    def forward(self,x):\n",
    "        x=self.hidden0(x)\n",
    "        x=self.hidden1(x)\n",
    "        x=self.hidden2(x)\n",
    "        x=self.out(x)\n",
    "        return x\n",
    "    \n",
    "    def train(self, real_data, false_data):\n",
    "        self.optimizer.zero_grad() # Zero/ Reset all gradients\n",
    "        loss=nn.BCELoss() # Binary Cross-Entropy Loss\n",
    "        \n",
    "        # Real data training\n",
    "        prediction_real=self(real_data) # Prediction\n",
    "        real_ones_data=V(torch.ones(real_data.size(0),1)) # Label ones\n",
    "        error_real=loss(prediction_real,real_ones_data)\n",
    "        error_real.backward()\n",
    "        \n",
    "        # Fake data training\n",
    "        prediction_false=self(false_data) # Prediction on generated data\n",
    "        real_zeros_data=V(torch.zeros(false_data.size(0),1)) # Label zeros\n",
    "        error_false=loss(prediction_false,real_zeros_data)\n",
    "        error_false.backward()\n",
    "        \n",
    "        self.optimizer.step() # Update weights of Adam\n",
    "        \n",
    "        return error_real+error_false,prediction_real,prediction_false # Error, predictions"
   ]
  },
  {
   "cell_type": "markdown",
   "metadata": {},
   "source": [
    "### Generator"
   ]
  },
  {
   "cell_type": "code",
   "execution_count": null,
   "metadata": {},
   "outputs": [],
   "source": [
    "class Generator(torch.nn.Module):"
   ]
  }
 ],
 "metadata": {
  "kernelspec": {
   "display_name": "Python 3",
   "language": "python",
   "name": "python3"
  },
  "language_info": {
   "codemirror_mode": {
    "name": "ipython",
    "version": 3
   },
   "file_extension": ".py",
   "mimetype": "text/x-python",
   "name": "python",
   "nbconvert_exporter": "python",
   "pygments_lexer": "ipython3",
   "version": "3.6.7"
  },
  "toc": {
   "base_numbering": 1,
   "nav_menu": {},
   "number_sections": true,
   "sideBar": true,
   "skip_h1_title": false,
   "title_cell": "Table of Contents",
   "title_sidebar": "Contents",
   "toc_cell": true,
   "toc_position": {},
   "toc_section_display": true,
   "toc_window_display": true
  },
  "varInspector": {
   "cols": {
    "lenName": 16,
    "lenType": 16,
    "lenVar": 40
   },
   "kernels_config": {
    "python": {
     "delete_cmd_postfix": "",
     "delete_cmd_prefix": "del ",
     "library": "var_list.py",
     "varRefreshCmd": "print(var_dic_list())"
    },
    "r": {
     "delete_cmd_postfix": ") ",
     "delete_cmd_prefix": "rm(",
     "library": "var_list.r",
     "varRefreshCmd": "cat(var_dic_list()) "
    }
   },
   "types_to_exclude": [
    "module",
    "function",
    "builtin_function_or_method",
    "instance",
    "_Feature"
   ],
   "window_display": false
  }
 },
 "nbformat": 4,
 "nbformat_minor": 2
}
