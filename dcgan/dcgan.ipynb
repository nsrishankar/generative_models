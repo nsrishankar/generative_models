{
 "cells": [
  {
   "cell_type": "markdown",
   "metadata": {
    "toc": true
   },
   "source": [
    "<h1>Table of Contents<span class=\"tocSkip\"></span></h1>\n",
    "<div class=\"toc\"><ul class=\"toc-item\"><li><span><a href=\"#Initialization\" data-toc-modified-id=\"Initialization-1\"><span class=\"toc-item-num\">1&nbsp;&nbsp;</span>Initialization</a></span><ul class=\"toc-item\"><li><span><a href=\"#Pokemon-Dataset-Download-and-normalization\" data-toc-modified-id=\"Pokemon-Dataset-Download-and-normalization-1.1\"><span class=\"toc-item-num\">1.1&nbsp;&nbsp;</span>Pokemon Dataset Download and normalization</a></span></li></ul></li><li><span><a href=\"#Networks\" data-toc-modified-id=\"Networks-2\"><span class=\"toc-item-num\">2&nbsp;&nbsp;</span>Networks</a></span><ul class=\"toc-item\"><li><span><a href=\"#Discriminator\" data-toc-modified-id=\"Discriminator-2.1\"><span class=\"toc-item-num\">2.1&nbsp;&nbsp;</span>Discriminator</a></span></li><li><span><a href=\"#Generator\" data-toc-modified-id=\"Generator-2.2\"><span class=\"toc-item-num\">2.2&nbsp;&nbsp;</span>Generator</a></span></li></ul></li><li><span><a href=\"#Training\" data-toc-modified-id=\"Training-3\"><span class=\"toc-item-num\">3&nbsp;&nbsp;</span>Training</a></span></li></ul></div>"
   ]
  },
  {
   "cell_type": "markdown",
   "metadata": {
    "code_folding": []
   },
   "source": [
    "## Initialization"
   ]
  },
  {
   "cell_type": "code",
   "execution_count": 1,
   "metadata": {},
   "outputs": [],
   "source": [
    "import numpy as np\n",
    "import os\n",
    "import sys\n",
    "import torch\n",
    "from torch import nn, optim\n",
    "from torch.autograd.variable import Variable as V\n",
    "from torchvision import datasets, transforms, models, transforms, utils\n",
    "from matplotlib import pyplot as plt\n",
    "from matplotlib import gridspec"
   ]
  },
  {
   "cell_type": "code",
   "execution_count": 2,
   "metadata": {},
   "outputs": [
    {
     "name": "stdout",
     "output_type": "stream",
     "text": [
      "3.6.6 | packaged by conda-forge | (default, Oct 12 2018, 14:08:43) \n",
      "[GCC 4.8.2 20140120 (Red Hat 4.8.2-15)]\n",
      "<torch.cuda.device object at 0x7fc71f6bef28>\n"
     ]
    },
    {
     "data": {
      "text/plain": [
       "'GeForce GTX 1060'"
      ]
     },
     "execution_count": 2,
     "metadata": {},
     "output_type": "execute_result"
    }
   ],
   "source": [
    "#os.environ[\"CUDA_VISIBLE_DEVICES\"]=\"0\"\n",
    "print(sys.version) # Python version\n",
    "print(torch.cuda.device(0))\n",
    "torch.cuda.get_device_name(0)"
   ]
  },
  {
   "cell_type": "code",
   "execution_count": 3,
   "metadata": {},
   "outputs": [
    {
     "name": "stdout",
     "output_type": "stream",
     "text": [
      "Random Seed:  30\n"
     ]
    }
   ],
   "source": [
    "seed=30\n",
    "torch.manual_seed(seed)\n",
    "print(\"Random Seed: \", seed)"
   ]
  },
  {
   "cell_type": "markdown",
   "metadata": {},
   "source": [
    "### Pokemon Dataset Download and normalization"
   ]
  },
  {
   "cell_type": "code",
   "execution_count": 4,
   "metadata": {},
   "outputs": [],
   "source": [
    "# Datasets\n",
    "data_dir='pokemon_dataset/'\n",
    "\n",
    "# Batch Size\n",
    "bs=64\n",
    "\n",
    "# Normalization parameters Imagenet\n",
    "means=[0.485, 0.456, 0.406]\n",
    "standard_deviations=[0.229, 0.224, 0.225]\n",
    "\n",
    "data_transforms=transforms.Compose([transforms.CenterCrop(160),\n",
    "                                    transforms.ToTensor(),\n",
    "                                    transforms.Normalize(means,standard_deviations)])    \n",
    "\n",
    "# ImageFolder\n",
    "image_dataset=datasets.ImageFolder(root=data_dir,transform=data_transforms)\n",
    "\n",
    "# DataLoaders\n",
    "dataloader=torch.utils.data.DataLoader(dataset=image_dataset,\n",
    "                                       batch_size=bs,shuffle=True,drop_last=False)"
   ]
  },
  {
   "cell_type": "code",
   "execution_count": 5,
   "metadata": {},
   "outputs": [
    {
     "name": "stderr",
     "output_type": "stream",
     "text": [
      "Clipping input data to the valid range for imshow with RGB data ([0..1] for floats or [0..255] for integers).\n"
     ]
    },
    {
     "data": {
      "text/plain": [
       "<matplotlib.image.AxesImage at 0x7fc7176c4e48>"
      ]
     },
     "execution_count": 5,
     "metadata": {},
     "output_type": "execute_result"
    },
    {
     "data": {
      "image/png": "[encoded data removed]",
      "text/plain": [
       "<Figure size 432x288 with 1 Axes>"
      ]
     },
     "metadata": {
      "needs_background": "light"
     },
     "output_type": "display_data"
    }
   ],
   "source": [
    "# Sample Image\n",
    "images,labels=next(iter(dataloader))\n",
    "image=images[0].permute(1,2,0).numpy()\n",
    "\n",
    "plt.imshow(image)"
   ]
  },
  {
   "cell_type": "markdown",
   "metadata": {},
   "source": [
    "## Networks"
   ]
  },
  {
   "cell_type": "markdown",
   "metadata": {},
   "source": [
    "### Discriminator"
   ]
  },
  {
   "cell_type": "code",
   "execution_count": null,
   "metadata": {},
   "outputs": [],
   "source": [
    "class Discriminator(torch.nn.Module):\n",
    "    def __init__(self):\n",
    "        super(Discriminator,self).__init__()\n",
    "        n_features= 784 # Flattened 28*28 image\n",
    "        n_out=1 # Bool Real or Generated image\n",
    "        \n",
    "        self.Conv1=nn.Sequential(\n",
    "            nn.Conv2d(\n",
    "                in_channels=1, out_channels=256, kernel_size=4,\n",
    "                stride=2, padding=1, bias=False\n",
    "            ),\n",
    "            nn.SELU()\n",
    "        )\n",
    "        \n",
    "        self.Conv2=nn.Sequential(\n",
    "            nn.Conv2d(\n",
    "                in_channels=256, out_channels=512, kernel_size=4,\n",
    "                stride=2, padding=1, bias=False\n",
    "            ),\n",
    "            nn.BatchNorm2d(512),\n",
    "            nn.SELU()\n",
    "        )\n",
    "        \n",
    "        self.Conv3=nn.Sequential(\n",
    "            nn.Conv2d(\n",
    "                in_channels=512, out_channels=1024, kernel_size=4,\n",
    "                stride=2, padding=1, bias=False\n",
    "            ),\n",
    "            nn.BatchNorm2d(1024),\n",
    "            nn.SELU()\n",
    "        )\n",
    "        \n",
    "        self.out=nn.Sequential(\n",
    "            nn.Linear(10248*4*4, 1),\n",
    "            nn.Sigmoid(),\n",
    "        \n",
    "        )\n",
    "        \n",
    "        self.optimizer=optim.Adam(self.parameters(), lr=0.00002)\n",
    "    \n",
    "    def forward(self, x):\n",
    "        x=self.Conv1(x)\n",
    "        x=self.Conv2(x)\n",
    "        x=self.Conv3(x)\n",
    "        x=x.view(-1,1024*4*4)\n",
    "        x=self.out(x)\n",
    "        return x\n",
    "    \n",
    "    def train(self, real_data, false_data):\n",
    "        self.optimizer.zero_grad() # Zero/ Reset all gradients\n",
    "        loss=nn.BCELoss() # Binary Cross-Entropy Loss\n",
    "        \n",
    "        # Real data training\n",
    "        prediction_real=self(real_data) # Prediction\n",
    "        real_ones_data=V(torch.ones(real_data.size(0),1)).cuda() # Label ones\n",
    "        error_real=loss(prediction_real,real_ones_data)\n",
    "        error_real.backward()\n",
    "        \n",
    "        # Fake data training\n",
    "        prediction_false=self(false_data) # Prediction on generated data\n",
    "        real_zeros_data=V(torch.zeros(false_data.size(0),1)).cuda() # Label zeros\n",
    "        error_false=loss(prediction_false,real_zeros_data)\n",
    "        error_false.backward() # Backprop error\n",
    "        \n",
    "        self.optimizer.step() # Update weights of Adam\n",
    "        \n",
    "        return error_real+error_false,prediction_real,prediction_false # Error, predictions"
   ]
  },
  {
   "cell_type": "markdown",
   "metadata": {},
   "source": [
    "### Generator"
   ]
  },
  {
   "cell_type": "code",
   "execution_count": null,
   "metadata": {},
   "outputs": [],
   "source": [
    "class Generator(torch.nn.Module):\n",
    "    def __init__(self):\n",
    "        super(Generator,self).__init__()\n",
    "        n_features=100 # Latent variable vector size\n",
    "        n_out=784 # 28*28 input image\n",
    "                \n",
    "        self.hidden0=nn.Sequential(\n",
    "            nn.Linear(n_features,256),\n",
    "            nn.SELU()\n",
    "        )\n",
    "        self.hidden1=nn.Sequential(\n",
    "            nn.Linear(256,512),\n",
    "            nn.SELU(),\n",
    "            nn.Dropout(0.25)\n",
    "        )\n",
    "        self.hidden2=nn.Sequential(\n",
    "            nn.Linear(512,1024),\n",
    "            nn.SELU(),\n",
    "            nn.Dropout(0.25)\n",
    "        )\n",
    "        self.out=nn.Sequential(\n",
    "            nn.Linear(1024,n_out),\n",
    "            nn.Tanh()\n",
    "        )\n",
    "        \n",
    "        self.optimizer=optim.Adam(self.parameters(), lr=0.00002)\n",
    "    \n",
    "    def forward(self, x):\n",
    "        x=self.hidden0(x)\n",
    "        x=self.hidden1(x)\n",
    "        x=self.hidden2(x)\n",
    "        x=self.out(x)\n",
    "        return x\n",
    "    \n",
    "    def train(self, discriminator, false_data):\n",
    "        self.optimizer.zero_grad() # Zero/ Reset all gradients\n",
    "        loss=nn.BCELoss() # Binary Cross-Entropy Loss\n",
    "        \n",
    "        prediction=discriminator(false_data)\n",
    "        real_ones_data=V(torch.ones(false_data.size(0),1)).cuda()\n",
    "        error=loss(prediction, real_ones_data)\n",
    "        error.backward() # Backprop error\n",
    "        \n",
    "        self.optimizer.step() # Update weights of Adam\n",
    "    \n",
    "        return error       "
   ]
  },
  {
   "cell_type": "markdown",
   "metadata": {},
   "source": [
    "## Training "
   ]
  },
  {
   "cell_type": "code",
   "execution_count": null,
   "metadata": {},
   "outputs": [],
   "source": [
    "def sample_noise(sample_size, latent_vec_size):\n",
    "    return V(torch.randn(sample_size, latent_vec_size)).cuda()\n",
    "\n"
   ]
  },
  {
   "cell_type": "code",
   "execution_count": null,
   "metadata": {
    "scrolled": true
   },
   "outputs": [],
   "source": [
    "n_epochs=500\n",
    "total_steps=len(mnist_dataloader)\n",
    "generated_folder='generated_images/'\n",
    "weights_model_folder='trained_folder/'\n",
    "\n",
    "discriminator=Discriminator()\n",
    "generator=Generator()\n",
    "\n",
    "print(\"-----Discriminator-----\")\n",
    "print(discriminator,\"\\n\")\n",
    "print(\"-----Generator-----\")\n",
    "print(generator,\"\\n\")\n",
    "\n",
    "if torch.cuda.is_available():\n",
    "    discriminator.cuda()\n",
    "    generator.cuda()\n",
    "\n",
    "print(\"Training...\")\n",
    "\n",
    "for epoch in range(n_epochs):\n",
    "    for index, (real_data_batch, _) in enumerate(mnist_dataloader):\n",
    "        data_batch_size=real_data_batch.size(0)\n",
    "        \n",
    "        real_data_batch=V(real_data_batch.view(data_batch_size,784)) # Vectorize+ Variable\n",
    "        real_data_batch=real_data_batch.cuda() # Cuda compatible\n",
    "        \n",
    "        false_data=generator(sample_noise(data_batch_size,100)).detach() # Generate false data...\n",
    "        # but avoid discriminator gradients being updated by this\n",
    "        \n",
    "        dis_error, dis_prediction_real, dis_prediction_false=discriminator.train(real_data_batch, false_data) # Discriminator training\n",
    "        \n",
    "        false_data=generator(sample_noise(data_batch_size,100)) # Generate more false data\n",
    "        gen_error=generator.train(discriminator, false_data) # Generator train\n",
    "        \n",
    "        if index%128==0: # Every minibatch\n",
    "            print(\"\\nEpoch {}, Batch {}\\n\".format(epoch,index))\n",
    "            print(\"\\tDiscriminator Error: {}, Generator Error: {}\".format(dis_error,gen_error))\n",
    "    \n",
    "    if epoch%10==0: # Every 10 epochs\n",
    "        generated_noise=sample_noise(20,100) # For generated image sample, noise vector\n",
    "        generator_vec=generator(generated_noise) # Using the same generated noise vector\n",
    "        sample_images=generator_vec.view(generator_vec.size(0),1,28,28).data\n",
    "        \n",
    "        fig=plt.figure(figsize=(8,10))\n",
    "        gs=gridspec.GridSpec(4,5)\n",
    "        gs.update(wspace=0.05, hspace=0.05)\n",
    "        \n",
    "        \n",
    "        for i, sample_image in enumerate(sample_images):\n",
    "            ax=plt.subplot(gs[i])\n",
    "            plt.axis('off')\n",
    "            plt.imshow(sample_image.cpu().reshape(28,28), cmap='Greys_r')\n",
    "            \n",
    "        if not os.path.exists(generated_folder):\n",
    "            os.makedirs(generated_folder)\n",
    "          \n",
    "        figure_name=\"{}Epoch_{}.png\".format(generated_folder, epoch)\n",
    "        plt.savefig(figure_name, bbox_inches='tight')\n",
    "        print(\"Saved {}\".format(figure_name))\n",
    "        \n",
    "    if epoch%50==0:\n",
    "        if not os.path.exists(weights_model_folder):\n",
    "            os.makedirs(weights_model_folder)\n",
    "        \n",
    "        filepath_generator=\"{}generator_epoch{}\".format(weights_model_folder, epoch)\n",
    "        filepath_discriminator=\"{}discriminator_epoch{}\".format(weights_model_folder, epoch)\n",
    "        \n",
    "        torch.save(generator, filepath_generator)\n",
    "        torch.save(discriminator, filepath_discriminator)\n",
    "        \n",
    "        \n",
    "plt.close(fig)"
   ]
  },
  {
   "cell_type": "code",
   "execution_count": null,
   "metadata": {},
   "outputs": [],
   "source": []
  }
 ],
 "metadata": {
  "kernelspec": {
   "display_name": "Python 3",
   "language": "python",
   "name": "python3"
  },
  "language_info": {
   "codemirror_mode": {
    "name": "ipython",
    "version": 3
   },
   "file_extension": ".py",
   "mimetype": "text/x-python",
   "name": "python",
   "nbconvert_exporter": "python",
   "pygments_lexer": "ipython3",
   "version": "3.6.6"
  },
  "toc": {
   "base_numbering": 1,
   "nav_menu": {},
   "number_sections": true,
   "sideBar": true,
   "skip_h1_title": false,
   "title_cell": "Table of Contents",
   "title_sidebar": "Contents",
   "toc_cell": true,
   "toc_position": {},
   "toc_section_display": true,
   "toc_window_display": true
  },
  "varInspector": {
   "cols": {
    "lenName": 16,
    "lenType": 16,
    "lenVar": 40
   },
   "kernels_config": {
    "python": {
     "delete_cmd_postfix": "",
     "delete_cmd_prefix": "del ",
     "library": "var_list.py",
     "varRefreshCmd": "print(var_dic_list())"
    },
    "r": {
     "delete_cmd_postfix": ") ",
     "delete_cmd_prefix": "rm(",
     "library": "var_list.r",
     "varRefreshCmd": "cat(var_dic_list()) "
    }
   },
   "types_to_exclude": [
    "module",
    "function",
    "builtin_function_or_method",
    "instance",
    "_Feature"
   ],
   "window_display": false
  }
 },
 "nbformat": 4,
 "nbformat_minor": 2
}
